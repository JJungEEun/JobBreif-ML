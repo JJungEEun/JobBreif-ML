{
  "cells": [
    {
      "cell_type": "code",
      "execution_count": 147,
      "metadata": {
        "id": "LhczwkreceGG"
      },
      "outputs": [],
      "source": [
        "import io\n",
        "import pandas as pd\n",
        "import matplotlib as mpl\n",
        "import matplotlib.pylab as plt\n",
        "import matplotlib.pyplot as plt\n",
        "import matplotlib.font_manager as fm\n",
        "from matplotlib import rc\n",
        "import numpy as np\n",
        "import requests\n",
        "import calendar\n",
        "import datetime\n",
        "from bs4 import BeautifulSoup\n",
        "import re\n",
        "import requests"
      ]
    },
    {
      "cell_type": "code",
      "execution_count": 148,
      "metadata": {
        "id": "MrNjqW0vcieF"
      },
      "outputs": [],
      "source": [
        "job_list = ['sales', 'rnd', 'media', 'design', 'finance', 'marketing','promotion',\n",
        "            'management', 'it','product', 'special', 'etc']"
      ]
    },
    {
      "cell_type": "markdown",
      "metadata": {
        "id": "IWXUSmZnkhZo"
      },
      "source": [
        "## 잡코리아 직무 인터뷰"
      ]
    },
    {
      "cell_type": "markdown",
      "metadata": {
        "id": "R-W4gh_ocnEa"
      },
      "source": [
        "### 직무인터뷰 크롤링"
      ]
    },
    {
      "cell_type": "markdown",
      "metadata": {
        "id": "XS5dLc2Pc7NC"
      },
      "source": [
        "1. 직무별 링크"
      ]
    },
    {
      "cell_type": "code",
      "execution_count": null,
      "metadata": {
        "colab": {
          "base_uri": "https://localhost:8080/"
        },
        "id": "mN8ZqNUKcms6",
        "outputId": "0633fe7e-0219-4031-adc6-45713779e678"
      },
      "outputs": [
        {
          "output_type": "stream",
          "name": "stdout",
          "text": [
            "sales 285\n",
            "rnd 225\n",
            "media 60\n",
            "design 91\n",
            "finance 0\n",
            "marketing 0\n",
            "promotion 480\n",
            "management 177\n",
            "it 334\n",
            "product 87\n",
            "special 158\n",
            "etc 71\n"
          ]
        }
      ],
      "source": [
        "pagenum_dict = {}\n",
        "for job in job_list:\n",
        "    page = requests.get(\"https://www.jobkorea.co.kr/starter/interview/\"+job)\n",
        "    soup = BeautifulSoup(page.text, \"html.parser\")\n",
        "\n",
        "    page_num = int(re.sub(r'[^0-9]', '', str(soup.select(\".total >span\")[0])))\n",
        "    pagenum_dict[job] = page_num\n",
        "    print(job, page_num)"
      ]
    },
    {
      "cell_type": "code",
      "execution_count": null,
      "metadata": {
        "id": "BatBqEUoecZs"
      },
      "outputs": [],
      "source": [
        "product_df  = pd.DataFrame(index=range(0,87), columns = ['id','title','link'])\n",
        "it_df  = pd.DataFrame(index=range(0,334), columns = ['id','title','link'])\n",
        "finanace_df  = pd.DataFrame(index=range(0,39), columns = ['id','title','link'])\n",
        "promotion_df  = pd.DataFrame(index=range(0,197), columns = ['id','title','link'])\n",
        "sales_df  = pd.DataFrame(index=range(0,285), columns = ['id','title','link'])\n",
        "marketing_df  = pd.DataFrame(index=range(0,199), columns = ['id','title','link'])\n",
        "management_df  = pd.DataFrame(index=range(0,177), columns = ['id','title','link'])\n",
        "rnd_df  = pd.DataFrame(index=range(0,225), columns = ['id','title','link'])\n",
        "media_df  = pd.DataFrame(index=range(0,60), columns = ['id','title','link'])\n",
        "design_df  = pd.DataFrame(index=range(0,91), columns = ['id','title','link'])\n",
        "special_df  = pd.DataFrame(index=range(0,158), columns = ['id','title','link'])\n",
        "etc_df  = pd.DataFrame(index=range(0,71), columns = ['id','title','link'])"
      ]
    },
    {
      "cell_type": "code",
      "execution_count": null,
      "metadata": {
        "id": "dV3DkOt2c3QU"
      },
      "outputs": [],
      "source": [
        "jobdf_dict = {'sales': sales_df, 'rnd': rnd_df, 'media':  media_df, 'design': design_df, 'finance': finanace_df, 'marketing':marketing_df,\n",
        "              'product': product_df, 'it': it_df, 'management': management_df, 'promotion':promotion_df, 'special': special_df, 'etc': etc_df}"
      ]
    },
    {
      "cell_type": "markdown",
      "metadata": {
        "id": "hb8YeiJadHkf"
      },
      "source": [
        "2. 직무 인터뷰 내용"
      ]
    },
    {
      "cell_type": "code",
      "execution_count": null,
      "metadata": {
        "id": "kmUGHVJzfmn8"
      },
      "outputs": [],
      "source": [
        "link_dict = {'sales': 'https://www.jobkorea.co.kr/starter/interview/sales?&Page=', \n",
        "             'rnd': 'https://www.jobkorea.co.kr/starter/interview/rnd?SchOrder=Itv_No&IsFavorOn=0&Page=', \n",
        "             'media':  'https://www.jobkorea.co.kr/starter/interview/media?SchOrder=Itv_No&IsFavorOn=0&Page=', \n",
        "             'design': 'https://www.jobkorea.co.kr/starter/interview/design?SchOrder=Itv_No&IsFavorOn=0&Page=', \n",
        "             'finance': 'https://www.jobkorea.co.kr/starter/interview/management?SchOrder=Itv_No&SchChildCode=JMIV0102&IsFavorOn=0&Page=', \n",
        "             'marketing': 'https://www.jobkorea.co.kr/starter/interview/promotion?SchOrder=Itv_No&SchChildCode=JMIV0201&IsFavorOn=0&Page=',\n",
        "             'product':'https://www.jobkorea.co.kr/starter/interview/product?&Page=', \n",
        "             'it': 'https://www.jobkorea.co.kr/starter/interview/it?&Page=', \n",
        "             'special': 'https://www.jobkorea.co.kr/starter/interview/special?SchOrder=Itv_No&IsFavorOn=0&Page=', \n",
        "             'etc': 'https://www.jobkorea.co.kr/starter/interview/etc?SchOrder=Itv_No&IsFavorOn=0&Page=',\n",
        "             'promotion': 'https://www.jobkorea.co.kr/starter/interview/promotion?SchOrder=Itv_No&SchChildCode=JMIV0204&IsFavorOn=0&Page=',\n",
        "             'management': 'https://www.jobkorea.co.kr/starter/interview/management?&Page='}"
      ]
    },
    {
      "cell_type": "code",
      "execution_count": null,
      "metadata": {
        "colab": {
          "base_uri": "https://localhost:8080/"
        },
        "id": "pf4oNBxWc3Af",
        "outputId": "3a8626b2-629e-43c8-cfca-c17c357796b2"
      },
      "outputs": [
        {
          "output_type": "stream",
          "name": "stdout",
          "text": [
            "======== sales ========\n",
            "1 30\n",
            "======== rnd ========\n",
            "1 24\n",
            "======== media ========\n",
            "1 8\n",
            "======== design ========\n",
            "1 11\n",
            "======== finance ========\n",
            "1 5\n",
            "======== marketing ========\n",
            "1 21\n",
            "======== promotion ========\n",
            "1 21\n",
            "======== management ========\n",
            "1 19\n",
            "======== it ========\n",
            "1 35\n",
            "======== product ========\n",
            "1 10\n",
            "======== special ========\n",
            "1 17\n",
            "======== etc ========\n",
            "1 9\n"
          ]
        }
      ],
      "source": [
        "for job in job_list:\n",
        "    print(\"========\",job,\"========\")\n",
        "    job_link = link_dict[job]\n",
        "    path='https://www.jobkorea.co.kr/'\n",
        "\n",
        "    idx = 0\n",
        "    print(1,(jobdf_dict[job].shape[0])//10 + 2)\n",
        "    for i in range(1,(jobdf_dict[job].shape[0])//10 + 2):\n",
        "        page = requests.get(job_link+str(i))\n",
        "        soup = BeautifulSoup(page.text, \"html.parser\")\n",
        "        page_link = soup.select('.interviewList > li > .descWrap> dl > dt > a')\n",
        "        for index, element in enumerate(page_link, 1):\n",
        "            title = re.sub('\\n|\\r|채용중','', element.text).strip()\n",
        "            jobdf_dict[job].iloc[idx] = [path+element.attrs['href'], title, idx]\n",
        "            idx+=1"
      ]
    },
    {
      "cell_type": "code",
      "execution_count": null,
      "metadata": {
        "colab": {
          "base_uri": "https://localhost:8080/"
        },
        "id": "9b3dnu6Dmhu1",
        "outputId": "ae5a3917-7491-47d5-e16c-18ebec0eb9cb"
      },
      "outputs": [
        {
          "output_type": "stream",
          "name": "stdout",
          "text": [
            "sales 285 285\n",
            "rnd 225 225\n",
            "media 60 60\n",
            "design 91 91\n",
            "finance 39 39\n",
            "marketing 199 199\n",
            "product 87 87\n",
            "it 334 334\n",
            "management 197 197\n",
            "promotion 480 197\n",
            "special 158 158\n",
            "etc 71 71\n"
          ]
        }
      ],
      "source": [
        "for job in jobdf_dict:\n",
        "    print(job, len(jobdf_dict[job]),len(jobdf_dict[job].dropna()))"
      ]
    },
    {
      "cell_type": "code",
      "execution_count": null,
      "metadata": {
        "colab": {
          "base_uri": "https://localhost:8080/"
        },
        "id": "hlUV9zglarbf",
        "outputId": "6236179c-d544-43ed-cca5-a1409219abc2"
      },
      "outputs": [
        {
          "output_type": "stream",
          "name": "stdout",
          "text": [
            "/content/drive/MyDrive/2023/캡스톤/직무분류사전/직무키워드\n"
          ]
        }
      ],
      "source": [
        "cd /content/drive/MyDrive/2023/캡스톤/직무분류사전/직무키워드"
      ]
    },
    {
      "cell_type": "code",
      "execution_count": null,
      "metadata": {
        "colab": {
          "base_uri": "https://localhost:8080/",
          "height": 142
        },
        "id": "kRJJ05Fvddfd",
        "outputId": "89fa7655-897c-4869-9620-13a25766ad23"
      },
      "outputs": [
        {
          "data": {
            "text/html": [
              "\n",
              "  <div id=\"df-4de30a94-aef7-4eba-b8f9-59b6b0fe3bcd\">\n",
              "    <div class=\"colab-df-container\">\n",
              "      <div>\n",
              "<style scoped>\n",
              "    .dataframe tbody tr th:only-of-type {\n",
              "        vertical-align: middle;\n",
              "    }\n",
              "\n",
              "    .dataframe tbody tr th {\n",
              "        vertical-align: top;\n",
              "    }\n",
              "\n",
              "    .dataframe thead th {\n",
              "        text-align: right;\n",
              "    }\n",
              "</style>\n",
              "<table border=\"1\" class=\"dataframe\">\n",
              "  <thead>\n",
              "    <tr style=\"text-align: right;\">\n",
              "      <th></th>\n",
              "      <th>link</th>\n",
              "      <th>title</th>\n",
              "      <th>id</th>\n",
              "    </tr>\n",
              "  </thead>\n",
              "  <tbody>\n",
              "    <tr>\n",
              "      <th>0</th>\n",
              "      <td>https://www.jobkorea.co.kr//starter/interview/...</td>\n",
              "      <td>환경 안전 법률을 현장 상황에 적합하게 적용하는 전문가</td>\n",
              "      <td>0</td>\n",
              "    </tr>\n",
              "    <tr>\n",
              "      <th>1</th>\n",
              "      <td>https://www.jobkorea.co.kr//starter/interview/...</td>\n",
              "      <td>심리상담 서비스의 새로운 패러다임</td>\n",
              "      <td>1</td>\n",
              "    </tr>\n",
              "    <tr>\n",
              "      <th>2</th>\n",
              "      <td>https://www.jobkorea.co.kr//starter/interview/...</td>\n",
              "      <td>기업교육 전문기관에서 컨설팅을 제공합니다</td>\n",
              "      <td>2</td>\n",
              "    </tr>\n",
              "  </tbody>\n",
              "</table>\n",
              "</div>\n",
              "      <button class=\"colab-df-convert\" onclick=\"convertToInteractive('df-4de30a94-aef7-4eba-b8f9-59b6b0fe3bcd')\"\n",
              "              title=\"Convert this dataframe to an interactive table.\"\n",
              "              style=\"display:none;\">\n",
              "        \n",
              "  <svg xmlns=\"http://www.w3.org/2000/svg\" height=\"24px\"viewBox=\"0 0 24 24\"\n",
              "       width=\"24px\">\n",
              "    <path d=\"M0 0h24v24H0V0z\" fill=\"none\"/>\n",
              "    <path d=\"M18.56 5.44l.94 2.06.94-2.06 2.06-.94-2.06-.94-.94-2.06-.94 2.06-2.06.94zm-11 1L8.5 8.5l.94-2.06 2.06-.94-2.06-.94L8.5 2.5l-.94 2.06-2.06.94zm10 10l.94 2.06.94-2.06 2.06-.94-2.06-.94-.94-2.06-.94 2.06-2.06.94z\"/><path d=\"M17.41 7.96l-1.37-1.37c-.4-.4-.92-.59-1.43-.59-.52 0-1.04.2-1.43.59L10.3 9.45l-7.72 7.72c-.78.78-.78 2.05 0 2.83L4 21.41c.39.39.9.59 1.41.59.51 0 1.02-.2 1.41-.59l7.78-7.78 2.81-2.81c.8-.78.8-2.07 0-2.86zM5.41 20L4 18.59l7.72-7.72 1.47 1.35L5.41 20z\"/>\n",
              "  </svg>\n",
              "      </button>\n",
              "      \n",
              "  <style>\n",
              "    .colab-df-container {\n",
              "      display:flex;\n",
              "      flex-wrap:wrap;\n",
              "      gap: 12px;\n",
              "    }\n",
              "\n",
              "    .colab-df-convert {\n",
              "      background-color: #E8F0FE;\n",
              "      border: none;\n",
              "      border-radius: 50%;\n",
              "      cursor: pointer;\n",
              "      display: none;\n",
              "      fill: #1967D2;\n",
              "      height: 32px;\n",
              "      padding: 0 0 0 0;\n",
              "      width: 32px;\n",
              "    }\n",
              "\n",
              "    .colab-df-convert:hover {\n",
              "      background-color: #E2EBFA;\n",
              "      box-shadow: 0px 1px 2px rgba(60, 64, 67, 0.3), 0px 1px 3px 1px rgba(60, 64, 67, 0.15);\n",
              "      fill: #174EA6;\n",
              "    }\n",
              "\n",
              "    [theme=dark] .colab-df-convert {\n",
              "      background-color: #3B4455;\n",
              "      fill: #D2E3FC;\n",
              "    }\n",
              "\n",
              "    [theme=dark] .colab-df-convert:hover {\n",
              "      background-color: #434B5C;\n",
              "      box-shadow: 0px 1px 3px 1px rgba(0, 0, 0, 0.15);\n",
              "      filter: drop-shadow(0px 1px 2px rgba(0, 0, 0, 0.3));\n",
              "      fill: #FFFFFF;\n",
              "    }\n",
              "  </style>\n",
              "\n",
              "      <script>\n",
              "        const buttonEl =\n",
              "          document.querySelector('#df-4de30a94-aef7-4eba-b8f9-59b6b0fe3bcd button.colab-df-convert');\n",
              "        buttonEl.style.display =\n",
              "          google.colab.kernel.accessAllowed ? 'block' : 'none';\n",
              "\n",
              "        async function convertToInteractive(key) {\n",
              "          const element = document.querySelector('#df-4de30a94-aef7-4eba-b8f9-59b6b0fe3bcd');\n",
              "          const dataTable =\n",
              "            await google.colab.kernel.invokeFunction('convertToInteractive',\n",
              "                                                     [key], {});\n",
              "          if (!dataTable) return;\n",
              "\n",
              "          const docLinkHtml = 'Like what you see? Visit the ' +\n",
              "            '<a target=\"_blank\" href=https://colab.research.google.com/notebooks/data_table.ipynb>data table notebook</a>'\n",
              "            + ' to learn more about interactive tables.';\n",
              "          element.innerHTML = '';\n",
              "          dataTable['output_type'] = 'display_data';\n",
              "          await google.colab.output.renderOutput(dataTable, element);\n",
              "          const docLink = document.createElement('div');\n",
              "          docLink.innerHTML = docLinkHtml;\n",
              "          element.appendChild(docLink);\n",
              "        }\n",
              "      </script>\n",
              "    </div>\n",
              "  </div>\n",
              "  "
            ],
            "text/plain": [
              "                                                link  \\\n",
              "0  https://www.jobkorea.co.kr//starter/interview/...   \n",
              "1  https://www.jobkorea.co.kr//starter/interview/...   \n",
              "2  https://www.jobkorea.co.kr//starter/interview/...   \n",
              "\n",
              "                            title id  \n",
              "0  환경 안전 법률을 현장 상황에 적합하게 적용하는 전문가  0  \n",
              "1              심리상담 서비스의 새로운 패러다임  1  \n",
              "2          기업교육 전문기관에서 컨설팅을 제공합니다  2  "
            ]
          },
          "execution_count": 103,
          "metadata": {},
          "output_type": "execute_result"
        }
      ],
      "source": [
        "jobdf_dict['special'].head(3)"
      ]
    },
    {
      "cell_type": "code",
      "execution_count": null,
      "metadata": {
        "id": "SOShNgQEQu1S"
      },
      "outputs": [],
      "source": [
        "for jobdf in jobdf_dict:\n",
        "  jobdf_dict[jobdf] = jobdf_dict[jobdf].rename(columns={'id':'link','link':'id'})"
      ]
    },
    {
      "cell_type": "code",
      "execution_count": null,
      "metadata": {
        "id": "90CXSx0VdiC6"
      },
      "outputs": [],
      "source": [
        "for job in jobdf_dict:\n",
        "  jobdf_dict[job].to_csv(str(job)+\"_df(2).csv\")"
      ]
    },
    {
      "cell_type": "code",
      "execution_count": null,
      "metadata": {
        "colab": {
          "base_uri": "https://localhost:8080/",
          "height": 142
        },
        "id": "d__aRkyWg4se",
        "outputId": "a24b268a-8b1a-409b-df3a-fbd33041c7dd"
      },
      "outputs": [
        {
          "data": {
            "text/html": [
              "\n",
              "  <div id=\"df-6f81ef47-5354-4ae4-9570-a6834e79c921\">\n",
              "    <div class=\"colab-df-container\">\n",
              "      <div>\n",
              "<style scoped>\n",
              "    .dataframe tbody tr th:only-of-type {\n",
              "        vertical-align: middle;\n",
              "    }\n",
              "\n",
              "    .dataframe tbody tr th {\n",
              "        vertical-align: top;\n",
              "    }\n",
              "\n",
              "    .dataframe thead th {\n",
              "        text-align: right;\n",
              "    }\n",
              "</style>\n",
              "<table border=\"1\" class=\"dataframe\">\n",
              "  <thead>\n",
              "    <tr style=\"text-align: right;\">\n",
              "      <th></th>\n",
              "      <th>link</th>\n",
              "      <th>title</th>\n",
              "      <th>id</th>\n",
              "    </tr>\n",
              "  </thead>\n",
              "  <tbody>\n",
              "    <tr>\n",
              "      <th>0</th>\n",
              "      <td>https://www.jobkorea.co.kr//starter/interview/...</td>\n",
              "      <td>이커머스 소프트웨어의 백엔드 개발</td>\n",
              "      <td>0</td>\n",
              "    </tr>\n",
              "    <tr>\n",
              "      <th>1</th>\n",
              "      <td>https://www.jobkorea.co.kr//starter/interview/...</td>\n",
              "      <td>이커머스 솔루션 전문기업의 프론트엔드 개발자</td>\n",
              "      <td>1</td>\n",
              "    </tr>\n",
              "    <tr>\n",
              "      <th>2</th>\n",
              "      <td>https://www.jobkorea.co.kr//starter/interview/...</td>\n",
              "      <td>게임업계 현직자를 만나다 - 레벨 디자이너 편</td>\n",
              "      <td>2</td>\n",
              "    </tr>\n",
              "  </tbody>\n",
              "</table>\n",
              "</div>\n",
              "      <button class=\"colab-df-convert\" onclick=\"convertToInteractive('df-6f81ef47-5354-4ae4-9570-a6834e79c921')\"\n",
              "              title=\"Convert this dataframe to an interactive table.\"\n",
              "              style=\"display:none;\">\n",
              "        \n",
              "  <svg xmlns=\"http://www.w3.org/2000/svg\" height=\"24px\"viewBox=\"0 0 24 24\"\n",
              "       width=\"24px\">\n",
              "    <path d=\"M0 0h24v24H0V0z\" fill=\"none\"/>\n",
              "    <path d=\"M18.56 5.44l.94 2.06.94-2.06 2.06-.94-2.06-.94-.94-2.06-.94 2.06-2.06.94zm-11 1L8.5 8.5l.94-2.06 2.06-.94-2.06-.94L8.5 2.5l-.94 2.06-2.06.94zm10 10l.94 2.06.94-2.06 2.06-.94-2.06-.94-.94-2.06-.94 2.06-2.06.94z\"/><path d=\"M17.41 7.96l-1.37-1.37c-.4-.4-.92-.59-1.43-.59-.52 0-1.04.2-1.43.59L10.3 9.45l-7.72 7.72c-.78.78-.78 2.05 0 2.83L4 21.41c.39.39.9.59 1.41.59.51 0 1.02-.2 1.41-.59l7.78-7.78 2.81-2.81c.8-.78.8-2.07 0-2.86zM5.41 20L4 18.59l7.72-7.72 1.47 1.35L5.41 20z\"/>\n",
              "  </svg>\n",
              "      </button>\n",
              "      \n",
              "  <style>\n",
              "    .colab-df-container {\n",
              "      display:flex;\n",
              "      flex-wrap:wrap;\n",
              "      gap: 12px;\n",
              "    }\n",
              "\n",
              "    .colab-df-convert {\n",
              "      background-color: #E8F0FE;\n",
              "      border: none;\n",
              "      border-radius: 50%;\n",
              "      cursor: pointer;\n",
              "      display: none;\n",
              "      fill: #1967D2;\n",
              "      height: 32px;\n",
              "      padding: 0 0 0 0;\n",
              "      width: 32px;\n",
              "    }\n",
              "\n",
              "    .colab-df-convert:hover {\n",
              "      background-color: #E2EBFA;\n",
              "      box-shadow: 0px 1px 2px rgba(60, 64, 67, 0.3), 0px 1px 3px 1px rgba(60, 64, 67, 0.15);\n",
              "      fill: #174EA6;\n",
              "    }\n",
              "\n",
              "    [theme=dark] .colab-df-convert {\n",
              "      background-color: #3B4455;\n",
              "      fill: #D2E3FC;\n",
              "    }\n",
              "\n",
              "    [theme=dark] .colab-df-convert:hover {\n",
              "      background-color: #434B5C;\n",
              "      box-shadow: 0px 1px 3px 1px rgba(0, 0, 0, 0.15);\n",
              "      filter: drop-shadow(0px 1px 2px rgba(0, 0, 0, 0.3));\n",
              "      fill: #FFFFFF;\n",
              "    }\n",
              "  </style>\n",
              "\n",
              "      <script>\n",
              "        const buttonEl =\n",
              "          document.querySelector('#df-6f81ef47-5354-4ae4-9570-a6834e79c921 button.colab-df-convert');\n",
              "        buttonEl.style.display =\n",
              "          google.colab.kernel.accessAllowed ? 'block' : 'none';\n",
              "\n",
              "        async function convertToInteractive(key) {\n",
              "          const element = document.querySelector('#df-6f81ef47-5354-4ae4-9570-a6834e79c921');\n",
              "          const dataTable =\n",
              "            await google.colab.kernel.invokeFunction('convertToInteractive',\n",
              "                                                     [key], {});\n",
              "          if (!dataTable) return;\n",
              "\n",
              "          const docLinkHtml = 'Like what you see? Visit the ' +\n",
              "            '<a target=\"_blank\" href=https://colab.research.google.com/notebooks/data_table.ipynb>data table notebook</a>'\n",
              "            + ' to learn more about interactive tables.';\n",
              "          element.innerHTML = '';\n",
              "          dataTable['output_type'] = 'display_data';\n",
              "          await google.colab.output.renderOutput(dataTable, element);\n",
              "          const docLink = document.createElement('div');\n",
              "          docLink.innerHTML = docLinkHtml;\n",
              "          element.appendChild(docLink);\n",
              "        }\n",
              "      </script>\n",
              "    </div>\n",
              "  </div>\n",
              "  "
            ],
            "text/plain": [
              "                                                link  \\\n",
              "0  https://www.jobkorea.co.kr//starter/interview/...   \n",
              "1  https://www.jobkorea.co.kr//starter/interview/...   \n",
              "2  https://www.jobkorea.co.kr//starter/interview/...   \n",
              "\n",
              "                       title id  \n",
              "0         이커머스 소프트웨어의 백엔드 개발  0  \n",
              "1   이커머스 솔루션 전문기업의 프론트엔드 개발자  1  \n",
              "2  게임업계 현직자를 만나다 - 레벨 디자이너 편  2  "
            ]
          },
          "execution_count": 27,
          "metadata": {},
          "output_type": "execute_result"
        }
      ],
      "source": [
        "jobdf_dict['it'].head(3)"
      ]
    },
    {
      "cell_type": "code",
      "execution_count": null,
      "metadata": {
        "id": "3EGfI341t3MG"
      },
      "outputs": [],
      "source": [
        "jobdf_dict = {'sales': sales_df, 'rnd': rnd_df, 'media':  media_df, 'design': design_df, 'finance': finance_df, 'marketing':marketing_df,\n",
        "              'product': product_df, 'it': it_df, 'product': product_df, 'special': special_df, 'etc': etc_df}"
      ]
    },
    {
      "cell_type": "markdown",
      "metadata": {
        "id": "EL4_71xvdlTr"
      },
      "source": [
        "3. 인터뷰 내용"
      ]
    },
    {
      "cell_type": "code",
      "execution_count": null,
      "metadata": {
        "id": "heP7LKXFdmfZ"
      },
      "outputs": [],
      "source": [
        "product_itvdf  = pd.DataFrame(index=range(0,87), columns = ['id','content'])\n",
        "it_itvdf  = pd.DataFrame(index=range(0,334), columns = ['id','content'])\n",
        "finanace_itvdf  = pd.DataFrame(index=range(0,39), columns = ['id','content'])\n",
        "promotion_itvdf  = pd.DataFrame(index=range(0,197), columns = ['id','content'])\n",
        "sales_itvdf  = pd.DataFrame(index=range(0,285), columns = ['id','content'])\n",
        "marketing_itvdf  = pd.DataFrame(index=range(0,199), columns = ['id','content'])\n",
        "management_itvdf  = pd.DataFrame(index=range(0,177), columns = ['id','content'])\n",
        "rnd_itvdf  = pd.DataFrame(index=range(0,225), columns = ['id','content'])\n",
        "media_itvdf  = pd.DataFrame(index=range(0,60), columns = ['id','content'])\n",
        "design_itvdf  = pd.DataFrame(index=range(0,91), columns = ['id','content'])\n",
        "special_itvdf  = pd.DataFrame(index=range(0,158), columns = ['id','content'])\n",
        "etc_itvdf  = pd.DataFrame(index=range(0,71), columns = ['id','content'])"
      ]
    },
    {
      "cell_type": "code",
      "execution_count": null,
      "metadata": {
        "id": "UFRnAMyjd8hv"
      },
      "outputs": [],
      "source": [
        "jobitv_dict = {'sales': sales_itvdf, 'rnd': rnd_itvdf, 'media':  media_itvdf, 'design': design_itvdf, 'finance': finanace_itvdf, 'marketing':marketing_itvdf,\n",
        "              'product': product_itvdf, 'it': it_itvdf, 'management': management_itvdf, 'promotion':promotion_itvdf, 'special': special_itvdf, 'etc': etc_itvdf}"
      ]
    },
    {
      "cell_type": "code",
      "execution_count": null,
      "metadata": {
        "id": "sArL1IBCeF-t",
        "colab": {
          "base_uri": "https://localhost:8080/"
        },
        "outputId": "5aa4f280-d883-4bd6-8c3e-777168518c76"
      },
      "outputs": [
        {
          "output_type": "stream",
          "name": "stdout",
          "text": [
            "sales\n",
            "285\n",
            "0\n",
            "100\n",
            "200\n",
            "rnd\n",
            "225\n",
            "0\n",
            "100\n",
            "200\n",
            "media\n",
            "60\n",
            "0\n",
            "design\n",
            "91\n",
            "0\n",
            "finance\n",
            "39\n",
            "0\n",
            "marketing\n",
            "199\n",
            "0\n",
            "100\n",
            "promotion\n",
            "197\n",
            "0\n",
            "100\n",
            "management\n",
            "177\n",
            "0\n",
            "100\n",
            "it\n",
            "334\n",
            "0\n",
            "100\n",
            "200\n",
            "300\n",
            "product\n",
            "87\n",
            "0\n",
            "special\n",
            "158\n",
            "0\n",
            "100\n",
            "etc\n",
            "71\n",
            "0\n"
          ]
        }
      ],
      "source": [
        "for job in job_list:\n",
        "  print(job)\n",
        "  print(len(jobdf_dict[job]))\n",
        "  for i in range(len(jobdf_dict[job])):\n",
        "    if i % 100 == 0: print(i)\n",
        "    response = requests.get(jobdf_dict[job]['link'][i]) # 링크\n",
        "    soup = BeautifulSoup(response.content, 'html.parser')\n",
        "\n",
        "    soup.select('.viewPage > .viewAtc > .viewInnerBx >.viewWrap > p')\n",
        "\n",
        "    txt  = \"\"\n",
        "    for a in soup.select('.viewPage > .viewAtc > .viewInnerBx >.viewWrap > p'):\n",
        "      if not a.text.strip().startswith('>>'):\n",
        "        txt = txt + ' ' + a.text.strip()\n",
        "\n",
        "    jobitv_dict[job].iloc[i] = [i, txt]"
      ]
    },
    {
      "cell_type": "code",
      "execution_count": null,
      "metadata": {
        "colab": {
          "base_uri": "https://localhost:8080/"
        },
        "id": "VB7i-ByD2CQh",
        "outputId": "48dd630a-c150-4d0e-ba81-c7a8047c34ec"
      },
      "outputs": [
        {
          "output_type": "stream",
          "name": "stdout",
          "text": [
            "sales 285 285\n",
            "rnd 225 225\n",
            "media 60 60\n",
            "design 91 91\n",
            "finance 39 39\n",
            "marketing 199 199\n",
            "product 87 87\n",
            "it 334 334\n",
            "management 177 177\n",
            "promotion 197 197\n",
            "special 158 158\n",
            "etc 71 71\n"
          ]
        }
      ],
      "source": [
        "for job in jobitv_dict:\n",
        "    print(job, len(jobitv_dict[job].dropna()), len(jobitv_dict[job]))"
      ]
    },
    {
      "cell_type": "code",
      "execution_count": null,
      "metadata": {
        "id": "zJL4wV1ofWqm"
      },
      "outputs": [],
      "source": [
        "for job in jobitv_dict:\n",
        "    jobitv_dict[job] = jobitv_dict[job].dropna()"
      ]
    },
    {
      "cell_type": "code",
      "execution_count": null,
      "metadata": {
        "id": "aERPHmrqBv10"
      },
      "outputs": [],
      "source": [
        "for job in jobitv_dict:\n",
        "  jobitv_dict[job].to_csv(str(job)+\"_itvdf(2).csv\")"
      ]
    },
    {
      "cell_type": "markdown",
      "metadata": {
        "id": "764etnb8exvN"
      },
      "source": [
        "4. 불용어처리를 위한 회사 제목"
      ]
    },
    {
      "cell_type": "code",
      "execution_count": null,
      "metadata": {
        "id": "ULtlTkaC2dta"
      },
      "outputs": [],
      "source": [
        "stopword_dict  = {'sales': set(), 'rnd': set(), 'media':  set(), 'design': set(), 'finance': set(), 'promotion': set(),\n",
        "               'marketing':set(), 'management':set(), 'it': set(), 'product': set(), 'special': set(), 'etc': set()}"
      ]
    },
    {
      "cell_type": "code",
      "source": [
        "stopword_dict['management'] = set()"
      ],
      "metadata": {
        "id": "vLOwxIDgtFwz"
      },
      "execution_count": null,
      "outputs": []
    },
    {
      "cell_type": "code",
      "execution_count": null,
      "metadata": {
        "id": "8NdH-bPDWHW1"
      },
      "outputs": [],
      "source": [
        "for job in job_list:\n",
        "  jobdf_dict[job] = jobdf_dict[job].dropna()"
      ]
    },
    {
      "cell_type": "code",
      "source": [
        "stopword_dict['promotion'] = set()"
      ],
      "metadata": {
        "id": "HsRytDqrs9WB"
      },
      "execution_count": null,
      "outputs": []
    },
    {
      "cell_type": "code",
      "source": [
        "job_list[7:]"
      ],
      "metadata": {
        "colab": {
          "base_uri": "https://localhost:8080/"
        },
        "id": "6A0mp2NqtSb5",
        "outputId": "3427cd78-43be-4867-e721-ca50102cef42"
      },
      "execution_count": null,
      "outputs": [
        {
          "output_type": "execute_result",
          "data": {
            "text/plain": [
              "['management', 'it', 'product', 'special', 'etc']"
            ]
          },
          "metadata": {},
          "execution_count": 131
        }
      ]
    },
    {
      "cell_type": "code",
      "execution_count": null,
      "metadata": {
        "colab": {
          "base_uri": "https://localhost:8080/"
        },
        "id": "0uVXwN9De29h",
        "outputId": "269fa220-e560-4768-bc1d-3e3517284d84"
      },
      "outputs": [
        {
          "output_type": "stream",
          "name": "stdout",
          "text": [
            "management\n",
            "0 0\n",
            "100 90\n",
            "it\n",
            "0 0\n",
            "100 70\n",
            "200 145\n",
            "300 216\n",
            "product\n",
            "0 0\n",
            "special\n",
            "0 0\n",
            "100 84\n",
            "etc\n",
            "0 0\n"
          ]
        }
      ],
      "source": [
        "for job in job_list[7:]:\n",
        "  print(job)\n",
        "  for i in range(len(jobdf_dict[job])):\n",
        "    if i % 100 == 0: \n",
        "      print(i, len(stopword_dict[job]))\n",
        "    response = requests.get(jobdf_dict[job]['link'][i])\n",
        "    soup = BeautifulSoup(response.content, 'html.parser')\n",
        "    txt = soup.select('.tagEle> a')\n",
        "    if len(txt)!=0: \n",
        "      company_name = soup.select('.tagEle>a')[0].string[1:]\n",
        "      stopword_dict[job].add(company_name)"
      ]
    },
    {
      "cell_type": "markdown",
      "metadata": {
        "id": "kASCi_wae9iU"
      },
      "source": [
        "5. 인터뷰 특성 단어 추가"
      ]
    },
    {
      "cell_type": "code",
      "execution_count": null,
      "metadata": {
        "id": "yKomqltofAJq"
      },
      "outputs": [],
      "source": [
        "for word in stopword_dict:\n",
        "    stop_word = stopword_dict[word]\n",
        "\n",
        "    stop_word.add('회사')\n",
        "    stop_word.add('직원')\n",
        "    stop_word.add('관리')\n",
        "    stop_word.add('기업')\n",
        "    stop_word.add('자기소개')\n",
        "    stop_word.add('임직원')\n",
        "    stop_word.add('소개')\n",
        "    stop_word.add('잡코리아')\n",
        "\n",
        "    stop_word.add('근무')\n",
        "    stop_word.add('담당자')\n",
        "    stop_word.add('담당')\n",
        "    stop_word.add('설립')\n",
        "    stop_word.add('안녕하세요')\n",
        "    stop_word.add('지원자')\n",
        "    stop_word.add('채용')\n",
        "    stop_word.add('직군')\n",
        "    stop_word.add('직무')\n",
        "    stop_word.add('번째')\n",
        "    stop_word.add('그때')\n",
        "\n",
        "    stop_word.add('말씀')\n",
        "    stop_word.add('필요')\n",
        "    stop_word.add('오전')\n",
        "    stop_word.add('지금')\n",
        "    stop_word.add('인원')\n",
        "    stop_word.add('아이')\n",
        "    stop_word.add('상태')\n",
        "    stop_word.add('신고')\n",
        "\n",
        "    stop_word.add('이전')\n",
        "    stop_word.add('우리나라')\n",
        "    stop_word.add('인터뷰')\n",
        "    stop_word.add('컴퍼니')\n",
        "    stop_word.add('한국')\n",
        "    stop_word.add('코리아')"
      ]
    },
    {
      "cell_type": "markdown",
      "metadata": {
        "id": "uXymzGGYkq_F"
      },
      "source": [
        "## 사람인"
      ]
    },
    {
      "cell_type": "markdown",
      "metadata": {
        "id": "jQZuaqYkxQPv"
      },
      "source": [
        "- 'promotion': 마케팅·홍보·조사(14)\n",
        "- 'sales': 고객상담·TM(21)\n",
        "- 'rnd': 연구·R&D(9)\n",
        "- 'media': 미디어·문화·스포츠(13)\n",
        "- 'design': 디자인(15)\n",
        "- 'trade': 영업·판매·무역(8)\n",
        "- 'management': 기획·전략 (16)\n",
        "- 'it': IT개발·데이터(2)\n",
        "- 'product': 생산 (11)\n",
        "- 'special': 회계·세무·재무 교육(3, 19)\n",
        "- 'etc': 10\n",
        "- "
      ]
    },
    {
      "cell_type": "code",
      "source": [
        "saram['마케팅·홍보·조사']"
      ],
      "metadata": {
        "id": "WJEy72kRO-IV"
      },
      "execution_count": null,
      "outputs": []
    },
    {
      "cell_type": "code",
      "source": [
        "saram_dict = {'promotion': [], 'marketing': [], 'management': [], \n",
        "              'it': [], 'design': [], 'sales': [], 'product':[], 'rnd':[],'media':[], 'finance':[]}"
      ],
      "metadata": {
        "id": "8DIT4WU9P3LO"
      },
      "execution_count": 149,
      "outputs": []
    },
    {
      "cell_type": "code",
      "execution_count": 150,
      "metadata": {
        "id": "iz3w5bzvzd9K"
      },
      "outputs": [],
      "source": [
        "saram_job_dict = {'promotion': 16, 'marketing': 14, 'management': 4, \n",
        "              'it': 2, 'design': 15, 'sales': 8, 'product':11, 'rnd':9,'media':13, 'finance':17}"
      ]
    },
    {
      "cell_type": "code",
      "execution_count": 153,
      "metadata": {
        "colab": {
          "base_uri": "https://localhost:8080/"
        },
        "id": "0GPLAZhVsQQJ",
        "outputId": "fed0a04d-1be3-41cc-ec38-869b86e038c0"
      },
      "outputs": [
        {
          "output_type": "stream",
          "name": "stdout",
          "text": [
            "sales 8\n",
            "rnd 9\n",
            "media 13\n",
            "design 15\n",
            "finance 17\n",
            "marketing 14\n",
            "promotion 16\n",
            "management 4\n",
            "it 2\n",
            "product 11\n"
          ]
        }
      ],
      "source": [
        "pagenum_dict = {}\n",
        "for job in job_list[:-2]:\n",
        "  job_code = saram_job_dict[job]\n",
        "  print(job, job_code)\n",
        "  page = requests.get(\"https://oapi.saramin.co.kr/guide/code-table5?mcode=\"+str(job_code))\n",
        "  soup = BeautifulSoup(page.text, \"html.parser\")\n",
        "  for txt in soup.select('.tbl>tbody>tr>td')[3::4]:\n",
        "    # print(txt.get_text())\n",
        "    saram_dict[job].append(txt.get_text())"
      ]
    },
    {
      "cell_type": "code",
      "execution_count": 155,
      "metadata": {
        "colab": {
          "base_uri": "https://localhost:8080/"
        },
        "id": "84E1HqMmG7RO",
        "outputId": "7cd4d3d2-db28-40b0-e250-afe0456cb526"
      },
      "outputs": [
        {
          "output_type": "stream",
          "name": "stdout",
          "text": [
            "sales 285\n",
            "rnd 225\n",
            "media 60\n",
            "design 91\n",
            "finance 39\n",
            "marketing 199\n",
            "promotion 197\n",
            "management 177\n",
            "it 334\n",
            "product 87\n",
            "special 158\n",
            "etc 71\n"
          ]
        }
      ],
      "source": [
        "for l in jobdf_dict:\n",
        "  print(l,len(jobdf_dict[l]))"
      ]
    },
    {
      "cell_type": "code",
      "execution_count": 156,
      "metadata": {
        "id": "zTX6mVzW0oK3"
      },
      "outputs": [],
      "source": [
        "import pickle\n",
        "\n",
        "with open(\"saram_keyword_list_0511.pkl\",\"wb\") as f:\n",
        "    pickle.dump(saram_dict, f)"
      ]
    }
  ],
  "metadata": {
    "colab": {
      "provenance": [],
      "toc_visible": true
    },
    "kernelspec": {
      "display_name": "Python 3",
      "name": "python3"
    },
    "language_info": {
      "name": "python"
    }
  },
  "nbformat": 4,
  "nbformat_minor": 0
}